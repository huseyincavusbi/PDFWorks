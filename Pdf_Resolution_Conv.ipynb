{
 "cells": [
  {
   "cell_type": "markdown",
   "id": "beaf2ba4",
   "metadata": {},
   "source": [
    "# PDF Resolution & Size Converter\n",
    "\n",
    "Convert a PDF to a smaller, lower-resolution version by rendering each page as a JPEG at your chosen DPI and quality.\n",
    "\n",
    "**Steps:**\n",
    "1. Run the setup cell below.\n",
    "2. Set your input/output paths and options in the main cell.\n",
    "3. Run the main cell to create your optimized PDF.\n"
   ]
  },
  {
   "cell_type": "code",
   "execution_count": null,
   "id": "b080c6eb",
   "metadata": {},
   "outputs": [],
   "source": [
    "# Package Installation\n",
    "\n",
    "!python3 -m venv PDF --clear\n",
    "!source PDF/bin/activate && pip install --upgrade pip\n",
    "!source PDF/bin/activate && pip install PyMuPDF Pillow tqdm\n",
    "\n",
    "print(\"Setup complete! Ready to convert images to PDF.\")"
   ]
  },
  {
   "cell_type": "code",
   "execution_count": 6,
   "id": "a9325816",
   "metadata": {},
   "outputs": [
    {
     "name": "stdout",
     "output_type": "stream",
     "text": [
      "Detected 28 CPU cores for multiprocessing.\n",
      "Input PDF: /home/bacon/PDF/dio.pdf\n",
      "Total pages to process: 432\n",
      "Target DPI for downsampling: 120\n",
      "JPEG quality: 60\n",
      "Output PDF will be saved as: /home/bacon/PDF/dio_dwn.pdf\n",
      "\n",
      "Splitting 432 pages into 27 chunks for multiprocessing.\n",
      "\n",
      "Process handling pages 0 to 15"
     ]
    },
    {
     "name": "stderr",
     "output_type": "stream",
     "text": [
      "Process chunks:   0%|          | 0/27 [00:00<?, ?it/s]"
     ]
    },
    {
     "name": "stdout",
     "output_type": "stream",
     "text": [
      "Process handling pages 16 to 31Process handling pages 32 to 47Process handling pages 64 to 79Process handling pages 96 to 111Process handling pages 48 to 63Process handling pages 80 to 95\n",
      "Process handling pages 160 to 175Process handling pages 128 to 143Process handling pages 176 to 191Process handling pages 144 to 159Process handling pages 224 to 239Process handling pages 208 to 223Process handling pages 240 to 255Process handling pages 112 to 127\n",
      "\n",
      "Process handling pages 256 to 271Process handling pages 192 to 207\n",
      "\n",
      "\n",
      "\n",
      "Process handling pages 336 to 351Process handling pages 272 to 287Process handling pages 304 to 319Process handling pages 288 to 303Process handling pages 320 to 335\n",
      "Process handling pages 352 to 367\n",
      "\n",
      "\n",
      "Process handling pages 368 to 383Process handling pages 416 to 431\n",
      "Process handling pages 384 to 399\n",
      "\n",
      "Process handling pages 400 to 415\n",
      "\n",
      "\n",
      "\n",
      "\n",
      "\n",
      "\n",
      "\n",
      "\n",
      "\n",
      "\n",
      "\n",
      "\n",
      "Process finished pages 352 to 367\n"
     ]
    },
    {
     "name": "stderr",
     "output_type": "stream",
     "text": [
      "Process chunks:   4%|▎         | 1/27 [00:01<00:48,  1.88s/it]"
     ]
    },
    {
     "name": "stdout",
     "output_type": "stream",
     "text": [
      "Process finished pages 256 to 271\n",
      "Process finished pages 400 to 415\n"
     ]
    },
    {
     "name": "stderr",
     "output_type": "stream",
     "text": [
      "Process chunks:   7%|▋         | 2/27 [00:02<00:21,  1.16it/s]"
     ]
    },
    {
     "name": "stdout",
     "output_type": "stream",
     "text": [
      "Process finished pages 288 to 303\n",
      "Process finished pages 304 to 319Process finished pages 240 to 255\n",
      "\n",
      "Process finished pages 272 to 287\n",
      "Process finished pages 384 to 399\n"
     ]
    },
    {
     "name": "stderr",
     "output_type": "stream",
     "text": [
      "Process chunks:  22%|██▏       | 6/27 [00:02<00:04,  4.50it/s]"
     ]
    },
    {
     "name": "stdout",
     "output_type": "stream",
     "text": [
      "Process finished pages 416 to 431\n"
     ]
    },
    {
     "name": "stderr",
     "output_type": "stream",
     "text": [
      "Process chunks:  33%|███▎      | 9/27 [00:02<00:02,  7.12it/s]"
     ]
    },
    {
     "name": "stdout",
     "output_type": "stream",
     "text": [
      "Process finished pages 160 to 175\n",
      "Process finished pages 208 to 223\n",
      "Process finished pages 144 to 159\n",
      "Process finished pages 224 to 239\n"
     ]
    },
    {
     "name": "stderr",
     "output_type": "stream",
     "text": [
      "Process chunks:  44%|████▍     | 12/27 [00:02<00:01, 10.03it/s]"
     ]
    },
    {
     "name": "stdout",
     "output_type": "stream",
     "text": [
      "Process finished pages 192 to 207\n",
      "Process finished pages 176 to 191\n",
      "Process finished pages 336 to 351\n"
     ]
    },
    {
     "name": "stderr",
     "output_type": "stream",
     "text": [
      "Process chunks:  59%|█████▉    | 16/27 [00:02<00:00, 13.95it/s]"
     ]
    },
    {
     "name": "stdout",
     "output_type": "stream",
     "text": [
      "Process finished pages 320 to 335\n",
      "Process finished pages 80 to 95\n",
      "Process finished pages 64 to 79Process finished pages 48 to 63\n",
      "\n",
      "Process finished pages 96 to 111\n"
     ]
    },
    {
     "name": "stderr",
     "output_type": "stream",
     "text": [
      "Process chunks:  70%|███████   | 19/27 [00:02<00:00, 12.48it/s]"
     ]
    },
    {
     "name": "stdout",
     "output_type": "stream",
     "text": [
      "Process finished pages 128 to 143\n",
      "Process finished pages 32 to 47\n",
      "Process finished pages 112 to 127\n",
      "Process finished pages 0 to 15\n"
     ]
    },
    {
     "name": "stderr",
     "output_type": "stream",
     "text": [
      "Process chunks:  85%|████████▌ | 23/27 [00:02<00:00, 16.36it/s]"
     ]
    },
    {
     "name": "stdout",
     "output_type": "stream",
     "text": [
      "Process finished pages 368 to 383\n",
      "Process finished pages 16 to 31\n"
     ]
    },
    {
     "name": "stderr",
     "output_type": "stream",
     "text": [
      "Process chunks: 100%|██████████| 27/27 [00:03<00:00,  8.63it/s]\n"
     ]
    },
    {
     "name": "stdout",
     "output_type": "stream",
     "text": [
      "\n",
      "Assembling downsampled pages into new PDF (multiprocessing, JPEG)...\n"
     ]
    },
    {
     "name": "stderr",
     "output_type": "stream",
     "text": [
      "Writing pages:  22%|██▏       | 93/432 [00:00<00:00, 920.20it/s]"
     ]
    },
    {
     "name": "stdout",
     "output_type": "stream",
     "text": [
      "  Written 10/432 pages...\n",
      "  Written 20/432 pages...\n",
      "  Written 30/432 pages...\n",
      "  Written 40/432 pages...\n",
      "  Written 50/432 pages...\n",
      "  Written 60/432 pages...\n",
      "  Written 70/432 pages...\n",
      "  Written 80/432 pages...\n",
      "  Written 90/432 pages...\n",
      "  Written 100/432 pages...\n",
      "  Written 110/432 pages...\n",
      "  Written 120/432 pages...\n",
      "  Written 130/432 pages...\n",
      "  Written 140/432 pages...\n",
      "  Written 150/432 pages...\n",
      "  Written 160/432 pages...\n",
      "  Written 170/432 pages...\n",
      "  Written 180/432 pages...\n",
      "  Written 190/432 pages...\n"
     ]
    },
    {
     "name": "stderr",
     "output_type": "stream",
     "text": [
      "Writing pages:  44%|████▍     | 190/432 [00:00<00:00, 948.87it/s]"
     ]
    },
    {
     "name": "stdout",
     "output_type": "stream",
     "text": [
      "  Written 200/432 pages...\n"
     ]
    },
    {
     "name": "stderr",
     "output_type": "stream",
     "text": [
      "Writing pages:  66%|██████▌   | 285/432 [00:00<00:00, 848.43it/s]"
     ]
    },
    {
     "name": "stdout",
     "output_type": "stream",
     "text": [
      "  Written 210/432 pages...\n",
      "  Written 220/432 pages...\n",
      "  Written 230/432 pages...\n",
      "  Written 240/432 pages...\n",
      "  Written 250/432 pages...\n",
      "  Written 260/432 pages...\n",
      "  Written 270/432 pages...\n",
      "  Written 280/432 pages...\n",
      "  Written 290/432 pages...\n",
      "  Written 300/432 pages...\n",
      "  Written 310/432 pages...\n",
      "  Written 320/432 pages...\n",
      "  Written 330/432 pages...\n",
      "  Written 340/432 pages...\n",
      "  Written 350/432 pages...\n",
      "  Written 360/432 pages...\n",
      "  Written 370/432 pages...\n"
     ]
    },
    {
     "name": "stderr",
     "output_type": "stream",
     "text": [
      "Writing pages: 100%|██████████| 432/432 [00:00<00:00, 837.14it/s]\n"
     ]
    },
    {
     "name": "stdout",
     "output_type": "stream",
     "text": [
      "  Written 380/432 pages...\n",
      "  Written 390/432 pages...\n",
      "  Written 400/432 pages...\n",
      "  Written 410/432 pages...\n",
      "  Written 420/432 pages...\n",
      "  Written 430/432 pages...\n",
      "  Written 432/432 pages...\n",
      "\n",
      "PDF processing complete (multiprocessing, JPEG).\n",
      "Original file size: 260.30 MB\n",
      "Downsampled file size: 65.93 MB\n",
      "Downsampled file saved at: /home/bacon/PDF/dio_dwn.pdf\n"
     ]
    }
   ],
   "source": [
    "import os\n",
    "import io\n",
    "import fitz  \n",
    "from tqdm import tqdm\n",
    "import multiprocessing\n",
    "from PIL import Image\n",
    "\n",
    "# Input PDF path\n",
    "pdf_path = \"/home/bacon/PDF/dio.pdf\"\n",
    "\n",
    "# Define the output path and the target resolution (DPI)\n",
    "output_pdf_path = os.path.splitext(pdf_path)[0] + \"_dwn.pdf\"\n",
    "dpi = 120 # Target DPI. Lower values mean lower resolution and smaller file size.                                                              \n",
    "jpeg_quality = 60 # JPEG quality (0-100), lower is smaller file                            \n",
    "\n",
    "# Get original file stats\n",
    "original_file_size = os.path.getsize(pdf_path)\n",
    "original_doc = fitz.open(pdf_path)\n",
    "num_pages = original_doc.page_count\n",
    "original_doc.close()  # Reopen in each process\n",
    "\n",
    "# Detect number of available workers\n",
    "num_procs = os.cpu_count() or 1 # Set to lower the number of processes in large files to avoid memory issues\n",
    "print(f\"Detected {num_procs} CPU cores for multiprocessing.\")\n",
    "print(f\"Input PDF: {pdf_path}\")\n",
    "print(f\"Total pages to process: {num_pages}\")\n",
    "print(f\"Target DPI for downsampling: {dpi}\")\n",
    "print(f\"JPEG quality: {jpeg_quality}\")\n",
    "print(f\"Output PDF will be saved as: {output_pdf_path}\\n\")\n",
    "\n",
    "def process_chunk_mp(args):\n",
    "    start, end, pdf_path, dpi, jpeg_quality = args\n",
    "    print(f\"Process handling pages {start} to {end-1}\")\n",
    "    doc = fitz.open(pdf_path)\n",
    "    chunk_results = []\n",
    "    for page_num in range(start, end):\n",
    "        page = doc.load_page(page_num)\n",
    "        # Render page as pixmap\n",
    "        downsampled_pix = page.get_pixmap(dpi=dpi)\n",
    "        # Convert pixmap to PIL Image\n",
    "        img = Image.frombytes(\"RGB\", [downsampled_pix.width, downsampled_pix.height], downsampled_pix.samples)\n",
    "        # Save as JPEG to bytes\n",
    "        img_bytes_io = io.BytesIO()\n",
    "        img.save(img_bytes_io, format=\"JPEG\", quality=jpeg_quality)\n",
    "        img_bytes = img_bytes_io.getvalue()\n",
    "        chunk_results.append((page_num, img_bytes, downsampled_pix.width, downsampled_pix.height))\n",
    "    doc.close()\n",
    "    print(f\"Process finished pages {start} to {end-1}\")\n",
    "    return chunk_results\n",
    "\n",
    "# Split pages into chunks based on number of processes\n",
    "chunk_size = (num_pages + num_procs - 1) // num_procs\n",
    "chunks = [(i*chunk_size, min((i+1)*chunk_size, num_pages), pdf_path, dpi, jpeg_quality) for i in range(num_procs) if i*chunk_size < num_pages]\n",
    "\n",
    "print(f\"Splitting {num_pages} pages into {len(chunks)} chunks for multiprocessing.\\n\")\n",
    "\n",
    "with multiprocessing.Pool(processes=num_procs) as pool:\n",
    "    results = []\n",
    "    for chunk_result in tqdm(pool.imap_unordered(process_chunk_mp, chunks), total=len(chunks), desc=\"Process chunks\"):\n",
    "        results.extend(chunk_result)\n",
    "\n",
    "# Sort results by page number to preserve order\n",
    "results.sort(key=lambda x: x[0])\n",
    "\n",
    "print(\"\\nAssembling downsampled pages into new PDF (multiprocessing, JPEG)...\")\n",
    "new_doc = fitz.open()\n",
    "for idx, (page_num, img_bytes, width, height) in enumerate(tqdm(results, desc=\"Writing pages\")):\n",
    "    img_stream = io.BytesIO(img_bytes)\n",
    "    new_page_rect = fitz.Rect(0, 0, width, height)\n",
    "    new_page = new_doc.new_page(width=new_page_rect.width, height=new_page_rect.height)\n",
    "    new_page.insert_image(new_page_rect, stream=img_stream)\n",
    "    if (idx+1) % 10 == 0 or (idx+1) == len(results):\n",
    "        print(f\"  Written {idx+1}/{len(results)} pages...\")\n",
    "\n",
    "new_doc.save(output_pdf_path)\n",
    "new_doc.close()\n",
    "\n",
    "new_file_size = os.path.getsize(output_pdf_path)\n",
    "\n",
    "print(\"\\nPDF processing complete (multiprocessing, JPEG).\")\n",
    "print(f\"Original file size: {original_file_size/1024/1024:.2f} MB\")\n",
    "print(f\"Downsampled file size: {new_file_size/1024/1024:.2f} MB\")\n",
    "print(f\"Downsampled file saved at: {output_pdf_path}\")\n"
   ]
  }
 ],
 "metadata": {
  "kernelspec": {
   "display_name": "PDF",
   "language": "python",
   "name": "python3"
  },
  "language_info": {
   "codemirror_mode": {
    "name": "ipython",
    "version": 3
   },
   "file_extension": ".py",
   "mimetype": "text/x-python",
   "name": "python",
   "nbconvert_exporter": "python",
   "pygments_lexer": "ipython3",
   "version": "3.12.3"
  }
 },
 "nbformat": 4,
 "nbformat_minor": 5
}
